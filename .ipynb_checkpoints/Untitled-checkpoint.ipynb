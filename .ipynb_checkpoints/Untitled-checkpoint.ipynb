{
 "cells": [
  {
   "cell_type": "code",
   "execution_count": null,
   "metadata": {
    "collapsed": true
   },
   "outputs": [],
   "source": [
    "# import necessary libraries\n",
    "import pandas as pd\n",
    "import Pybiodiversity\n",
    "\n",
    "from sqlalchemy.ext.automap import automap_base\n",
    "from sqlalchemy.orm import Session\n",
    "from sqlalchemy import create_engine, func\n",
    "\n",
    "from flask import (\n",
    "    Flask,\n",
    "    render_template,\n",
    "    jsonify)\n",
    "\n",
    "app = Flask(__name__)\n",
    "\n",
    "\n",
    "\n",
    "@app.route(\"/sample/<sample_number>\")\n",
    "def sample(sample_number):\n",
    "    personal = Pybiodiversity.getPersonInfo(sample_number)\n",
    "    washing_frequency = Pybiodiversity.getWashingFrequency(sample_number)\n",
    "    otu_distribution = Pybiodiversity.getOtuDistribution(sample_number)\n",
    "    data = {\n",
    "        'personal':personal,\n",
    "        'washing_frequency':washing_frequency,\n",
    "        'otu_distribution':otu_distribution\n",
    "    }\n",
    "    return  jsonify(data)\n",
    "\n",
    "@app.route(\"/names\")\n",
    "def names():\n",
    "    data = Pybiodiversity.getSampleList()\n",
    "    return  jsonify(data)\n",
    "\n",
    "@app.route(\"/otu\")\n",
    "def otu():\n",
    "    data = Pybiodiversity.getOtuSampleRelation()\n",
    "    return  jsonify(data)\n",
    "\n",
    "@app.route(\"/\")\n",
    "def home():\n",
    "    return 'hi'\n",
    "# render_template(\"index.html\")\n",
    "\n",
    "if __name__ == \"__main__\":\n",
    "    app.run(debug=True)\n"
   ]
  }
 ],
 "metadata": {
  "kernelspec": {
   "display_name": "Python 3",
   "language": "python",
   "name": "python3"
  },
  "language_info": {
   "codemirror_mode": {
    "name": "ipython",
    "version": 3
   },
   "file_extension": ".py",
   "mimetype": "text/x-python",
   "name": "python",
   "nbconvert_exporter": "python",
   "pygments_lexer": "ipython3",
   "version": "3.6.2"
  }
 },
 "nbformat": 4,
 "nbformat_minor": 2
}
